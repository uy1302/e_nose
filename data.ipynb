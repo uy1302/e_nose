{
 "cells": [
  {
   "cell_type": "code",
   "execution_count": 28,
   "id": "8cf72d3a",
   "metadata": {},
   "outputs": [],
   "source": [
    "import pandas as pd \n",
    "import sys\n",
    "import os\n",
    "import numpy as np"
   ]
  },
  {
   "cell_type": "code",
   "execution_count": 29,
   "id": "7444a60e",
   "metadata": {},
   "outputs": [
    {
     "data": {
      "text/plain": [
       "DATE          7960\n",
       "TIME          7960\n",
       "MQ136         7960\n",
       "MQ137         7960\n",
       "TEMP          7960\n",
       "HUMI          7960\n",
       "Start Time    7960\n",
       "dtype: int64"
      ]
     },
     "execution_count": 29,
     "metadata": {},
     "output_type": "execute_result"
    }
   ],
   "source": [
    "df = pd.read_csv(\"DATA_Enose - 100gBeef.Day1.csv\")\n",
    "df = df.drop(columns=['Unnamed: 9', 'Unnamed: 6', \"Total Time = 27h 15'\"])\n",
    "df = df.rename(columns={'Start Time = 8:54': 'Start Time'})\n",
    "\n",
    "df[\"Start Time\"] = df[\"Start Time\"].replace('#NUM!', pd.NA)\n",
    "df = df.dropna()\n",
    "\n",
    "df[\"Start Time\"] = df[\"Start Time\"].astype(float)\n",
    "\n",
    "df.count()"
   ]
  },
  {
   "cell_type": "code",
   "execution_count": 32,
   "id": "55684207",
   "metadata": {},
   "outputs": [],
   "source": [
    "df['Label'] = np.nan\n",
    "\n",
    "df.loc[df['Start Time'] < 5,'Label'] = 0\n",
    "df.loc[(df['Start Time'] >= 5)  & (df['Start Time'] < 9),'Label'] = 1\n",
    "df.loc[(df['Start Time'] >= 9)  & (df['Start Time'] < 12),'Label'] = 2\n",
    "df.loc[(df['Start Time'] >= 12) & (df['Start Time'] < 16),'Label'] = 3\n",
    "df.loc[df['Start Time'] >= 16,'Label'] = 4\n",
    "df.to_csv(\"processed_data.csv\", index=False)"
   ]
  },
  {
   "cell_type": "code",
   "execution_count": null,
   "id": "60fa82c9",
   "metadata": {},
   "outputs": [],
   "source": []
  }
 ],
 "metadata": {
  "kernelspec": {
   "display_name": "venv (3.12.3)",
   "language": "python",
   "name": "python3"
  },
  "language_info": {
   "codemirror_mode": {
    "name": "ipython",
    "version": 3
   },
   "file_extension": ".py",
   "mimetype": "text/x-python",
   "name": "python",
   "nbconvert_exporter": "python",
   "pygments_lexer": "ipython3",
   "version": "3.12.3"
  }
 },
 "nbformat": 4,
 "nbformat_minor": 5
}
